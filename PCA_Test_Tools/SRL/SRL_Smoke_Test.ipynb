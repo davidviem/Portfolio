{
 "cells": [
  {
   "cell_type": "code",
   "execution_count": null,
   "metadata": {},
   "outputs": [],
   "source": [
    "import os, sys\n",
    "current_path = os.getcwd()\n",
    "current_path, tail = os.path.split(current_path)\n",
    "folder_path= os.path.join(current_path, \"libraries/\")\n",
    "file_path_ingest = folder_path + \"Ingest.py\"\n",
    "file_path_calculations = folder_path + \"Calculations.py\"\n",
    "%run $file_path_ingest\n",
    "%run $file_path_calculations"
   ]
  },
  {
   "cell_type": "code",
   "execution_count": null,
   "metadata": {},
   "outputs": [],
   "source": [
    "directory_lambertian = r\"D:\\LiDAR\\01_Projects\\03_SRL\\PI&T\\Recordings\\Viper Recordings\\Smoke_Test_VP04\\2024-07-02_15-25-50.956_measurement_VPR004_Target0.61x0.61_GT9.99_10P\\MI5-WIN10\"\n",
    "directory_stop_sign = r\"D:\\LiDAR\\01_Projects\\03_SRL\\PI&T\\Recordings\\Viper Recordings\\Smoke_Test_VP04\\2024-07-03_13-02-30.808_measurement_Stop30_GT10.03_VPR004\\RRL0283W\"\n",
    "directory_pixels = r\"D:\\LiDAR\\01_Projects\\03_SRL\\PI&T\\Recordings\\Viper Recordings\\Smoke_Test_VP04\\2024-07-02_10-15-36.712_measurement_pixels_VPR004\\MI5-WIN10\"\n",
    "directory_general = r\"D:\\LiDAR\\01_Projects\\03_SRL\\PI&T\\Recordings\\Viper Recordings\\Smoke_Test_VP04\""
   ]
  },
  {
   "cell_type": "markdown",
   "metadata": {},
   "source": [
    "EXTRACT VIPER ID, RANGE GROUND TRUTH, TARGET SIZE GROUND TRUTH AND TARGET TYPE"
   ]
  },
  {
   "cell_type": "code",
   "execution_count": null,
   "metadata": {},
   "outputs": [],
   "source": [
    "def directory_data_extractor(directory):\n",
    " indx=0\n",
    " for i in directory:\n",
    "    indx=indx+1\n",
    "    if directory[indx:indx+3]=='VPR' or directory[indx:indx+3]=='vpr':\n",
    "        viper_id = directory[indx+4:indx+6]\n",
    "        viper_id = 'VPR0'+viper_id\n",
    "        print('Viper ID is:',viper_id)\n",
    "        break\n",
    "\n",
    " indx=0\n",
    " for i in directory:\n",
    "    indx=indx+1\n",
    "    if directory[indx:indx+2]=='GT' or directory[indx:indx+2]=='gt':\n",
    "        if float(directory[indx+2])<10 and directory[indx+4]!='.':\n",
    "         ground_truth_str = directory[indx+2:indx+6]\n",
    "         ground_truth = float(ground_truth_str)\n",
    "         print('Ground Truth Range is:',ground_truth)\n",
    "         break\n",
    "        else:\n",
    "         ground_truth_str = directory[indx+2:indx+7]\n",
    "         ground_truth = float(ground_truth_str)\n",
    "         print('Ground Truth Range is:',ground_truth)\n",
    "         break\n",
    "\n",
    " indx=0\n",
    " for i in directory:\n",
    "    indx=indx+1\n",
    "    if directory[indx:indx+6]=='Target' or directory[indx:indx+6]=='target':\n",
    "        \n",
    "        if directory[indx+6]=='0':\n",
    "            size_a=float(directory[indx+7:indx+10])\n",
    "            size_b=float(directory[indx+12:indx+15])\n",
    "            gt_target_size_area= size_a*size_b\n",
    "            target_type = 'Lambertian'\n",
    "            print('Target Size Ground Truth Area:',gt_target_size_area)\n",
    "            print(\"Target is a type:\",target_type)\n",
    "            break\n",
    "        else:\n",
    "         gt_target_size_area = float(directory[indx+6])*float(directory[indx+8])\n",
    "         target_type = 'Lambertian'\n",
    "         print('Target Size Ground Truth Area:',gt_target_size_area)\n",
    "         print(\"Target is a type:\",target_type)\n",
    "         break\n",
    "    elif directory[indx:indx+6] == 'Stop24' or directory[indx:indx+4] == 'stop24':\n",
    "        gt_target_size_area = 0.31397\n",
    "        target_type = '24\" Stop'\n",
    "        print('Target Size Ground Truth Area:',gt_target_size_area)\n",
    "        print(target_type)\n",
    "        break\n",
    "    elif directory[indx:indx+6] == 'Stop30' or directory[indx:indx+4] == 'stop30':\n",
    "        gt_target_size_area = 0.49443\n",
    "        target_type = '30\" Stop'\n",
    "        print('Target Size Ground Truth Area:',gt_target_size_area)\n",
    "        print(target_type)\n",
    "        break\n",
    "\n",
    " indx=0\n",
    " for i in directory:\n",
    "    indx=indx+1\n",
    "    if directory[indx:indx+6]=='Pixels' or directory[indx:indx+6]=='pixels':\n",
    "        target_type = 'Pixels'\n",
    "        print(target_type)\n",
    "\n",
    " indx=0\n",
    " for i in directory:\n",
    "    indx=indx+1\n",
    "    if directory[indx:indx+4]=='2024' or directory[indx:indx+4]=='2023'or directory[indx:indx+4]=='2025':\n",
    "        test_date = directory[indx+5:indx+7]+\"/\"+directory[indx+8:indx+10]+\"/\"+directory[indx+2:indx+4]\n",
    "        print(\"Test Date:\",test_date)\n",
    "        \n",
    " if target_type != 'Pixels':\n",
    "  return viper_id,ground_truth,gt_target_size_area,target_type,test_date\n",
    " else:\n",
    "  return viper_id,target_type,test_date\n"
   ]
  },
  {
   "cell_type": "markdown",
   "metadata": {},
   "source": [
    "## LAMBERTIAN ANALYSIS"
   ]
  },
  {
   "cell_type": "code",
   "execution_count": null,
   "metadata": {},
   "outputs": [],
   "source": [
    "sensor_type = \"SRL\" \n",
    "\n",
    "if os.path.exists(directory_lambertian) != True :logger.warning(f\"Directory not found!, Is the drive connected?\")\n",
    "else:\n",
    "    sensor_viper = sensor(sensor_type, directory_lambertian, debug=True)\n",
    "\n",
    "viper_id, ground_truth, gt_target_size_area, target_type, test_date = directory_data_extractor(directory_lambertian)"
   ]
  },
  {
   "cell_type": "markdown",
   "metadata": {},
   "source": [
    "DATA INGEST"
   ]
  },
  {
   "cell_type": "code",
   "execution_count": null,
   "metadata": {},
   "outputs": [],
   "source": [
    "sensor_viper.data_read(multiple_files=False)"
   ]
  },
  {
   "cell_type": "code",
   "execution_count": null,
   "metadata": {},
   "outputs": [],
   "source": [
    "sensor_viper.row_col_fix()"
   ]
  },
  {
   "cell_type": "code",
   "execution_count": null,
   "metadata": {},
   "outputs": [],
   "source": [
    "sensor_viper.data_validation()\n",
    "sensor_viper.df_single_frame\n",
    "sensor_viper.df_single_frame = sensor_viper.df_single_frame[sensor_viper.df_single_frame['return_idx'] == 0]"
   ]
  },
  {
   "cell_type": "markdown",
   "metadata": {},
   "source": [
    "TARGET SELECTION"
   ]
  },
  {
   "cell_type": "code",
   "execution_count": null,
   "metadata": {},
   "outputs": [],
   "source": [
    "if target_type != 'Pixels':\n",
    " target_selection(sensor_viper)\n",
    " data_parting(sensor_viper)"
   ]
  },
  {
   "cell_type": "markdown",
   "metadata": {},
   "source": [
    "RANGE ACCURACY / POINTS ON TARGET / PD"
   ]
  },
  {
   "cell_type": "code",
   "execution_count": null,
   "metadata": {},
   "outputs": [],
   "source": [
    "if target_type != 'Pixels':\n",
    " pd_points = pd_calculation(sensor_viper)\n",
    " range_readout = sensor_viper.df_all_frames_target['range'].mean()\n",
    " range_accuracy= ((ground_truth - sensor_viper.df_all_frames_target['range'].mean())**2)**0.5\n",
    " print('Range Accuracy:', range_accuracy)"
   ]
  },
  {
   "cell_type": "markdown",
   "metadata": {},
   "source": [
    "RANGE PRECISION"
   ]
  },
  {
   "cell_type": "code",
   "execution_count": null,
   "metadata": {},
   "outputs": [],
   "source": [
    "if target_type != 'Pixels': \n",
    " df_return_precision, average_std = range_precision(sensor_viper)\n",
    " average_std"
   ]
  },
  {
   "cell_type": "markdown",
   "metadata": {},
   "source": [
    "TARGET SIZE"
   ]
  },
  {
   "cell_type": "code",
   "execution_count": null,
   "metadata": {},
   "outputs": [],
   "source": [
    "if target_type != 'Pixels':\n",
    " TargHeight, TargWidth, TargPerimeter, TargArea = target_size(sensor_viper)\n",
    " factor_area = TargArea/gt_target_size_area\n",
    " print(\"Target is about \",TargHeight,\"m\"\" by\", TargWidth,\" m\", \"Approximate Perimeter:\",TargPerimeter, \"Approximate Area:\",TargArea, \"Target Error:\", factor_area)"
   ]
  },
  {
   "cell_type": "markdown",
   "metadata": {},
   "source": [
    "INTESITY DATA COLLECTION"
   ]
  },
  {
   "cell_type": "code",
   "execution_count": null,
   "metadata": {},
   "outputs": [],
   "source": [
    "if target_type != 'Pixels':\n",
    " average_int = sensor_viper.df_all_frames_target['intensity'].mean()\n",
    " min_int = sensor_viper.df_all_frames_target['intensity'].min()\n",
    " max_int = sensor_viper.df_all_frames_target['intensity'].max()"
   ]
  },
  {
   "cell_type": "code",
   "execution_count": null,
   "metadata": {},
   "outputs": [],
   "source": [
    "if target_type != 'Pixels':\n",
    " df_smoke_t_lambertian=pd.DataFrame({'Sample':[viper_id],\n",
    "                                     'Test Date':[test_date],\n",
    "                                    'Target Type':[target_type],\n",
    "                                    'Ground Truth':[ground_truth],\n",
    "                                    'Range Readout':[range_readout],\n",
    "                                    'Range Accuracy':[range_accuracy],\n",
    "                                    'Range Precision':[average_std],\n",
    "                                    '90% PD Points':[pd_points],\n",
    "                                    'Average Intensity':[average_int],\n",
    "                                    'Min Intensity':[min_int],\n",
    "                                    'Max Intensity':[max_int],\n",
    "                                    'GT Target Size':[gt_target_size_area],\n",
    "                                    'Target Area':[TargArea],\n",
    "                                    'Mult Factor':[factor_area]\n",
    "                                    })           \n",
    " \n",
    "df_smoke_t_lambertian"
   ]
  },
  {
   "cell_type": "code",
   "execution_count": null,
   "metadata": {},
   "outputs": [],
   "source": [
    "if target_type != 'Pixels':\n",
    " \n",
    " print('Range Readout:', range_readout)\n",
    " print('Range Accuracy:', range_accuracy)\n",
    " print('Range Precision:', average_std)\n",
    " print('Points 90% PD on Target:',pd_points)\n",
    " print('Average Intensity on Target:',average_int)\n",
    " print('Min Intensity on Target:',min_int)\n",
    " print('Max Intensity on Target:',max_int)\n",
    " print('Target Area:', TargArea)\n",
    " print('Multiplicative Factor', factor_area)"
   ]
  },
  {
   "cell_type": "markdown",
   "metadata": {},
   "source": [
    "## STOP SIGN ANALYSIS"
   ]
  },
  {
   "cell_type": "code",
   "execution_count": null,
   "metadata": {},
   "outputs": [],
   "source": [
    "%run $file_path_ingest\n",
    "%run $file_path_calculations\n",
    "\n",
    "sensor_type = \"SRL\" \n",
    "\n",
    "if os.path.exists(directory_stop_sign) != True :logger.warning(f\"Directory not found!, Is the drive connected?\")\n",
    "else:\n",
    "    sensor_viper = sensor(sensor_type, directory_stop_sign, debug=True)\n",
    "\n",
    "viper_id, ground_truth, gt_target_size_area, target_type, test_date = directory_data_extractor(directory_stop_sign)"
   ]
  },
  {
   "cell_type": "code",
   "execution_count": null,
   "metadata": {},
   "outputs": [],
   "source": [
    "sensor_viper.data_read(multiple_files=False)\n",
    "sensor_viper.row_col_fix()\n",
    "sensor_viper.data_validation()\n",
    "\n",
    "sensor_viper.df_single_frame\n",
    "sensor_viper.df_single_frame = sensor_viper.df_single_frame[sensor_viper.df_single_frame['return_idx'] == 0]"
   ]
  },
  {
   "cell_type": "code",
   "execution_count": null,
   "metadata": {},
   "outputs": [],
   "source": [
    "sensor_viper.df_single_frame"
   ]
  },
  {
   "cell_type": "code",
   "execution_count": null,
   "metadata": {},
   "outputs": [],
   "source": [
    "if target_type != 'Pixels':\n",
    " target_selection(sensor_viper)\n",
    " data_parting(sensor_viper)"
   ]
  },
  {
   "cell_type": "code",
   "execution_count": null,
   "metadata": {},
   "outputs": [],
   "source": []
  },
  {
   "cell_type": "code",
   "execution_count": null,
   "metadata": {},
   "outputs": [],
   "source": [
    "if target_type != 'Pixels':\n",
    " pd_points = pd_calculation(sensor_viper)\n",
    " range_readout = sensor_viper.df_all_frames_target['range'].mean()\n",
    " range_accuracy= ((ground_truth - sensor_viper.df_all_frames_target['range'].mean())**2)**0.5\n",
    " print('Range Accuracy:', range_accuracy)"
   ]
  },
  {
   "cell_type": "code",
   "execution_count": null,
   "metadata": {},
   "outputs": [],
   "source": [
    "if target_type != 'Pixels': \n",
    " df_return_precision, average_std = range_precision(sensor_viper)\n",
    " average_std"
   ]
  },
  {
   "cell_type": "code",
   "execution_count": null,
   "metadata": {},
   "outputs": [],
   "source": [
    "if target_type != 'Pixels':\n",
    " TargHeight, TargWidth, TargPerimeter, TargArea = target_size(sensor_viper)\n",
    " factor_area = TargArea/gt_target_size_area\n",
    " print(\"Target is about \",TargHeight,\"m\"\" by\", TargWidth,\" m\", \"Approximate Perimeter:\",TargPerimeter, \"Approximate Area:\",TargArea, \"Target Error:\", factor_area)"
   ]
  },
  {
   "cell_type": "code",
   "execution_count": null,
   "metadata": {},
   "outputs": [],
   "source": [
    "if target_type != 'Pixels':\n",
    " average_int = sensor_viper.df_all_frames_target['intensity'].mean()\n",
    " min_int = sensor_viper.df_all_frames_target['intensity'].min()\n",
    " max_int = sensor_viper.df_all_frames_target['intensity'].max()"
   ]
  },
  {
   "cell_type": "code",
   "execution_count": null,
   "metadata": {},
   "outputs": [],
   "source": [
    "if target_type != 'Pixels':\n",
    " df_smoke_stop_test=pd.DataFrame({'Sample':[viper_id],\n",
    "                                     'Test Date':[test_date],\n",
    "                                    'Target Type':[target_type],\n",
    "                                    'Ground Truth':[ground_truth],\n",
    "                                    'Range Readout':[range_readout],\n",
    "                                    'Range Accuracy':[range_accuracy],\n",
    "                                    'Range Precision':[average_std],\n",
    "                                    '90% PD Points':[pd_points],\n",
    "                                    'Average Intensity':[average_int],\n",
    "                                    'Min Intensity':[min_int],\n",
    "                                    'Max Intensity':[max_int],\n",
    "                                    'GT Target Size':[gt_target_size_area],\n",
    "                                    'Target Area':[TargArea],\n",
    "                                    'Mult Factor':[factor_area]\n",
    "                                    })           \n",
    "df_smoke_stop_test"
   ]
  },
  {
   "cell_type": "code",
   "execution_count": null,
   "metadata": {},
   "outputs": [],
   "source": [
    "df_smoke_test_summary = pd.concat([df_smoke_t_lambertian, df_smoke_stop_test])"
   ]
  },
  {
   "cell_type": "markdown",
   "metadata": {},
   "source": [
    "# DEFECTIVE PIXELS ANALYSIS"
   ]
  },
  {
   "cell_type": "code",
   "execution_count": null,
   "metadata": {},
   "outputs": [],
   "source": [
    "%run $file_path_ingest\n",
    "%run $file_path_calculations\n",
    "sensor_type = \"SRL\" \n",
    "\n",
    "if os.path.exists(directory_pixels) != True :logger.warning(f\"Directory not found!, Is the drive connected?\")\n",
    "else:\n",
    "    sensor_viper = sensor(sensor_type, directory_pixels, debug=True)\n",
    "\n",
    "viper_id, target_type, test_date = directory_data_extractor(directory_pixels)"
   ]
  },
  {
   "cell_type": "code",
   "execution_count": null,
   "metadata": {},
   "outputs": [],
   "source": [
    "sensor_viper.data_read(multiple_files=False)\n",
    "sensor_viper.row_col_fix()\n",
    "sensor_viper.data_validation()"
   ]
  },
  {
   "cell_type": "markdown",
   "metadata": {},
   "source": [
    "FAKE DEFECTIVE PIXELS GENERATION"
   ]
  },
  {
   "cell_type": "code",
   "execution_count": null,
   "metadata": {},
   "outputs": [],
   "source": [
    "sensor_viper.df_valid_returns"
   ]
  },
  {
   "cell_type": "code",
   "execution_count": null,
   "metadata": {},
   "outputs": [],
   "source": [
    "### Fake Defective Pixels Data Frame\n",
    "df_copy = sensor_viper.df_valid_returns[sensor_viper.df_valid_returns['return_idx']==0].copy()\n",
    "df_def_pix = df_copy[['intensity','col','row','frame_idx']]\n",
    "condition = (df_def_pix['col'] == 21) & (df_def_pix['row'] == 32) | (df_def_pix['col'] == 45) & (df_def_pix['row'] == 32) | (df_def_pix['col'] == 100) & (df_def_pix['row'] == 31) | (df_def_pix['col'] == 101) & (df_def_pix['row'] == 31) | (df_def_pix['col'] == 100) & (df_def_pix['row'] == 25) \n",
    "df_def_pix.loc[condition, 'intensity'] = 0\n",
    "# Identify which frames contain a given condition and then set the value of a column to a given value\n",
    "# frame_idx_to_mod = df_def_pix.loc[(df_def_pix['row'] == 0) & (df_def_pix['col'] == 1), 'frame_idx'].unique()\n",
    "# df_def_pix.loc[df_def_pix['frame_idx'].isin(frame_idx_to_mod), 'intensity']=0\n",
    "px.scatter(df_def_pix,x='col',y='row',color='intensity',animation_frame='frame_idx')"
   ]
  },
  {
   "cell_type": "markdown",
   "metadata": {},
   "source": [
    "FAKE DATA ANALYSIS"
   ]
  },
  {
   "cell_type": "code",
   "execution_count": null,
   "metadata": {},
   "outputs": [],
   "source": [
    "# if target_type == 'Pixels':\n",
    "#     if df_def_pix['intensity'].min()<10:\n",
    "#         print(\"Evidence for Defective pixels found, minimum intensity found: \",df_def_pix['intensity'].min())\n",
    "#         def_pix = df_def_pix[df_def_pix['intensity'] == 0]\n",
    "#         def_pix['SAMPLE'] = viper_id\n",
    "#         def_pix_summary = def_pix.groupby(['col', 'row','intensity'])['SAMPLE'].describe()\n",
    "#         def_pix_summary.to_csv(f\"{directory_pixels}/{viper_id}_Smoke_Test_Defective_Pixels_{get_current_time_date()}.csv\", sep=',')\n",
    "#         num_def_pix=def_pix['col'].count()/100\n",
    "#         print('Number of Defective Pixels detected',num_def_pix)\n",
    "#         df_smoke_test_summary['Def. Pixels'] = num_def_pix\n",
    "#     else:\n",
    "#         print(\"No evidence of dead pixels found, min int: \",df_def_pix['intensity'].min())"
   ]
  },
  {
   "cell_type": "markdown",
   "metadata": {},
   "source": [
    "REAL DATA TESTING"
   ]
  },
  {
   "cell_type": "code",
   "execution_count": null,
   "metadata": {},
   "outputs": [],
   "source": [
    "if target_type == 'Pixels':\n",
    "    df_analysis_pix = sensor_viper.df_valid_returns[sensor_viper.df_valid_returns['return_idx']==0]\n",
    "    if df_analysis_pix['intensity'].min()<10:\n",
    "        print(\"Evidence for Defective pixels found, minimum intensity found: \",df_analysis_pix['intensity'].min())\n",
    "        df_analysis_pix = df_analysis_pix[df_analysis_pix['intensity'] == 0]\n",
    "        df_analysis_pix['SAMPLE'] = viper_id\n",
    "        def_pix_summary = df_analysis_pix.groupby(['col', 'row','intensity'])[['SAMPLE']].describe()\n",
    "        def_pix_summary.to_csv(f\"{directory_pixels}/{viper_id}_Smoke_Test_Defective_Pixels_{get_current_time_date()}.csv\", sep=',')\n",
    "        num_def_pix = df_analysis_pix['col'].count()/100\n",
    "        print('Number of Defective Pixels detected',num_def_pix)\n",
    "        df_smoke_test_summary['Def. Pixels'] = num_def_pix\n",
    "    else:\n",
    "        print(\"No evidence of dead pixels found, min int: \",df_analysis_pix['intensity'].min())\n",
    "        num_def_pix=0\n",
    "        df_smoke_test_summary['Def. Pixels'] = num_def_pix"
   ]
  },
  {
   "cell_type": "markdown",
   "metadata": {},
   "source": [
    "# SMOKE TEST RESULTS SUMMARY"
   ]
  },
  {
   "cell_type": "code",
   "execution_count": null,
   "metadata": {},
   "outputs": [],
   "source": [
    "df_smoke_test_summary"
   ]
  },
  {
   "cell_type": "markdown",
   "metadata": {},
   "source": [
    "CVS EXPORT OF RESULTS"
   ]
  },
  {
   "cell_type": "code",
   "execution_count": null,
   "metadata": {},
   "outputs": [],
   "source": [
    "df_smoke_test_summary.to_csv(f\"{directory_general}/{viper_id}_Smoke_Test_Summary_{get_current_time_date()}.csv\", sep=',')"
   ]
  },
  {
   "cell_type": "code",
   "execution_count": null,
   "metadata": {},
   "outputs": [],
   "source": []
  }
 ],
 "metadata": {
  "kernelspec": {
   "display_name": "pyca",
   "language": "python",
   "name": "python3"
  },
  "language_info": {
   "codemirror_mode": {
    "name": "ipython",
    "version": 3
   },
   "file_extension": ".py",
   "mimetype": "text/x-python",
   "name": "python",
   "nbconvert_exporter": "python",
   "pygments_lexer": "ipython3",
   "version": "3.10.8"
  }
 },
 "nbformat": 4,
 "nbformat_minor": 2
}
