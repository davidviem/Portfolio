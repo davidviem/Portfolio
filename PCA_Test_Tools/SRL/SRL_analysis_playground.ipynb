{
 "cells": [
  {
   "cell_type": "code",
   "execution_count": null,
   "metadata": {
    "metadata": {}
   },
   "outputs": [],
   "source": [
    "import os, sys\n",
    "current_path = os.getcwd()\n",
    "current_path, tail = os.path.split(current_path)\n",
    "folder_path= os.path.join(current_path, \"libraries/\")\n",
    "file_path_ingest = folder_path + \"Ingest.py\"\n",
    "file_path_calculations = folder_path + \"Calculations.py\"\n",
    "%run $file_path_ingest\n",
    "%run $file_path_calculations\n"
   ]
  },
  {
   "cell_type": "code",
   "execution_count": null,
   "metadata": {},
   "outputs": [],
   "source": [
    "dir = r\"D:\\LiDAR\\01_Projects\\03_SRL\\PI&T\\Test Campaign\\2024.07.08_SMX_VP02_VP04\\TC13 Stop Sign Target Sep\\2024-07-08_13-41-31.154_VPR002_Target1x1_GT25.04\\RRL0283W\"\n"
   ]
  },
  {
   "cell_type": "code",
   "execution_count": null,
   "metadata": {
    "metadata": {}
   },
   "outputs": [],
   "source": [
    "sensor_type = \"SRL\" \n",
    "\n",
    "if os.path.exists(dir) != True :logger.warning(f\"Directory not found!, Is the drive connected?\")\n",
    "else:\n",
    "    sensor_viper = sensor(sensor_type, dir, debug=True)\n"
   ]
  },
  {
   "cell_type": "markdown",
   "metadata": {},
   "source": [
    "DATA INGEST"
   ]
  },
  {
   "cell_type": "code",
   "execution_count": null,
   "metadata": {
    "metadata": {}
   },
   "outputs": [],
   "source": [
    "sensor_viper.data_read(multiple_files=False)\n",
    "sensor_viper.row_col_fix()\n",
    "sensor_viper.data_validation()"
   ]
  },
  {
   "cell_type": "markdown",
   "metadata": {},
   "source": [
    "----------"
   ]
  },
  {
   "cell_type": "markdown",
   "metadata": {},
   "source": [
    "------------------------ SUMMARY BY EACH FRAME -----------------"
   ]
  },
  {
   "cell_type": "code",
   "execution_count": null,
   "metadata": {},
   "outputs": [],
   "source": [
    "# data_valid=sensor_viper.df_valid_returns.groupby('frame_idx').describe()\n",
    "# data_valid"
   ]
  },
  {
   "cell_type": "markdown",
   "metadata": {},
   "source": [
    "----- Mean Amount of points per frame ----"
   ]
  },
  {
   "cell_type": "code",
   "execution_count": null,
   "metadata": {},
   "outputs": [],
   "source": [
    "# sensor.df_valid_returns.groupby('frame_idx')['x'].count().mean()\n"
   ]
  },
  {
   "cell_type": "markdown",
   "metadata": {},
   "source": [
    "---------------------------"
   ]
  },
  {
   "cell_type": "code",
   "execution_count": null,
   "metadata": {},
   "outputs": [],
   "source": [
    "# sensor.df_valid_returns\n",
    "# # df_test = sensor.df_valid_returns[(sensor.df_valid_returns['ring'] >= 125) & (sensor.df_valid_returns['ring'] <= 140)].copy()\n",
    "# # df_test\n",
    "# #px.scatter(sensor.df_valid_returns,x='y',y='z',color='SNR',animation_frame='frame_idx')\n",
    "# #px.scatter_3d(sensor.df_single_frame,x='x',y='y',z='z',color='Processed Intensity')"
   ]
  },
  {
   "cell_type": "code",
   "execution_count": null,
   "metadata": {},
   "outputs": [],
   "source": [
    "# df_test= sensor.df_valid_returns[(sensor.df_valid_returns['azimuth_angle'] >= 130) & (sensor.df_valid_returns['azimuth_angle'] <= 230)]\n",
    "# px.scatter(df_test,x='azimuth_angle',y='elevation_angle',color='intensity')\n",
    "\n",
    "## HESSAI PLOTTING BY AZIMUTH AND ELEVATION\n",
    "#px.scatter(sensor.df_valid_returns,x='azimuth_angle',y='elevation_angle',color='intensity',animation_frame='frame_idx')"
   ]
  },
  {
   "cell_type": "code",
   "execution_count": null,
   "metadata": {},
   "outputs": [],
   "source": [
    "## HESSAI PLOTTING BY COL AND ROW\n",
    "#px.scatter(sensor.df_valid_returns,x='col',y='row',color='intensity',animation_frame='frame_idx')"
   ]
  },
  {
   "cell_type": "code",
   "execution_count": null,
   "metadata": {},
   "outputs": [],
   "source": [
    "sensor_viper.df_single_frame = sensor_viper.df_single_frame[sensor_viper.df_single_frame['return_idx'] == 0] "
   ]
  },
  {
   "cell_type": "markdown",
   "metadata": {},
   "source": [
    "TARGET SELECTION"
   ]
  },
  {
   "cell_type": "code",
   "execution_count": null,
   "metadata": {
    "metadata": {}
   },
   "outputs": [],
   "source": [
    "target_selection(sensor_viper)\n",
    "data_parting(sensor_viper)"
   ]
  },
  {
   "cell_type": "code",
   "execution_count": null,
   "metadata": {
    "metadata": {}
   },
   "outputs": [],
   "source": [
    "df_return_valid_count, pfa = pfa_calculation(sensor_viper)\n",
    "pfa"
   ]
  },
  {
   "cell_type": "code",
   "execution_count": null,
   "metadata": {
    "metadata": {}
   },
   "outputs": [],
   "source": [
    "df_return_precision, average_std = range_precision(sensor_viper)\n",
    "average_std"
   ]
  },
  {
   "cell_type": "code",
   "execution_count": null,
   "metadata": {},
   "outputs": [],
   "source": [
    "# df_all_target=sensor.df_all_frames_target\n",
    "# df_all_target.groupby('return_idx')['range'].mean()\n",
    "# df_all_target.groupby('return_idx')['range'].quantile(q=0.5)\n",
    "#planets.groupby('year')['orbital_period'].median()"
   ]
  },
  {
   "cell_type": "code",
   "execution_count": null,
   "metadata": {},
   "outputs": [],
   "source": [
    "#df_return0=sensor.df_all_frames_target[sensor.df_all_frames_target['return_idx']==0].copy()\n",
    "#sensor.df_valid_returns[sensor.df_valid_returns['frame_idx']==5].copy()\n",
    "#df_return0\n",
    "# sensor.df_selection"
   ]
  },
  {
   "cell_type": "code",
   "execution_count": null,
   "metadata": {},
   "outputs": [],
   "source": [
    "# Q1=sensor.df_all_frames_target['range'].quantile(q=0.25)\n",
    "# Q3=sensor.df_all_frames_target['range'].quantile(q=0.75)\n",
    "# IQR=Q3-Q1\n",
    "# High_Outlier= Q3+1.5*IQR\n",
    "# Lower_Outlier= Q1-1.5*IQR\n",
    "# print(High_Outlier)\n",
    "# print(Lower_Outlier)\n",
    "# df_all_frames_target_valid=sensor.df_all_frames_target[(sensor.df_all_frames_target['range']<=High_Outlier) & (sensor.df_all_frames_target['range']>=Lower_Outlier)]\n",
    "# df_all_frames_target_valid.describe()"
   ]
  },
  {
   "cell_type": "code",
   "execution_count": null,
   "metadata": {},
   "outputs": [],
   "source": [
    "# df_all_target=sensor.df_all_frames_target\n",
    "# df_all_target.groupby('return_idx')['range'].min()\n"
   ]
  },
  {
   "cell_type": "code",
   "execution_count": null,
   "metadata": {
    "metadata": {}
   },
   "outputs": [],
   "source": [
    "pd_points = pd_calculation(sensor_viper)\n",
    "range_readout = sensor_viper.df_all_frames_target['range'].mean()\n",
    "ground_truth = 25.06\n",
    "range_accuracy= ((ground_truth - sensor_viper.df_all_frames_target['range'].mean())**2)**0.5\n",
    "print('Range Accuracy:', range_accuracy)"
   ]
  },
  {
   "cell_type": "code",
   "execution_count": null,
   "metadata": {},
   "outputs": [],
   "source": [
    "TargHeight, TargWidth, TargPerimeter, TargArea= target_size(sensor_viper)\n",
    "gt_width = .60\n",
    "print(\"Target is about \",TargHeight,\"m\"\" by\", TargWidth,\" m\", \"Approximate Perimeter:\",TargPerimeter, \"Approximate Area:\",TargArea)"
   ]
  },
  {
   "cell_type": "code",
   "execution_count": null,
   "metadata": {},
   "outputs": [],
   "source": [
    "df_summary=pd.DataFrame({\n",
    "                                    'Target Type':['Stop Sign 24\"'],\n",
    "                                    'Test Case':['TC_13'],\n",
    "                                    'Ground Truth':[ground_truth],\n",
    "                                    'Range Readout':[range_readout],\n",
    "                                    'Range Accuracy':[range_accuracy],\n",
    "                                    'Range Precision':[average_std],\n",
    "                                    '90% PD Points':[pd_points],\n",
    "                                    'GT Target Width':[gt_width],\n",
    "                                    'Target Width':[TargWidth],\n",
    "                                    'Error':[gt_width-TargWidth]\n",
    "                                    })        \n",
    "df_summary"
   ]
  },
  {
   "cell_type": "code",
   "execution_count": null,
   "metadata": {},
   "outputs": [],
   "source": [
    "# directory_general = r\"D:\\LiDAR\\01_Projects\\03_SRL\\PI&T\\Test Campaign\\2024.07.08_SMX_VP02_VP04\\TC17 Kneeling Child\\2024-07-08_14-19-28.052_VPR002_KneelingChild\\RRL0283W\"\n",
    "df_summary.to_csv(f\"{dir}/_SMX_StopSign10pVPR002_Small_{get_current_time_date()}.csv\", sep=',')\n"
   ]
  },
  {
   "cell_type": "code",
   "execution_count": null,
   "metadata": {},
   "outputs": [],
   "source": []
  }
 ],
 "metadata": {
  "kernelspec": {
   "display_name": "py39",
   "language": "python",
   "name": "python3"
  },
  "language_info": {
   "codemirror_mode": {
    "name": "ipython",
    "version": 3
   },
   "file_extension": ".py",
   "mimetype": "text/x-python",
   "name": "python",
   "nbconvert_exporter": "python",
   "pygments_lexer": "ipython3",
   "version": "3.10.8"
  },
  "orig_nbformat": 4,
  "vscode": {
   "interpreter": {
    "hash": "d2f49d885928c0056a39415bd79f865217b6420ef024d405fa55f4a484fdaa88"
   }
  }
 },
 "nbformat": 4,
 "nbformat_minor": 2
}
